{
 "cells": [
  {
   "cell_type": "code",
   "execution_count": 3,
   "id": "314b3304",
   "metadata": {},
   "outputs": [],
   "source": [
    "import pandas as pd\n",
    "import numpy as np\n",
    "import transformers\n",
    "import torch\n",
    "import nltk\n",
    "from nltk.corpus import stopwords"
   ]
  },
  {
   "cell_type": "code",
   "execution_count": 29,
   "id": "0f509b52",
   "metadata": {},
   "outputs": [
    {
     "data": {
      "text/html": [
       "<div>\n",
       "<style scoped>\n",
       "    .dataframe tbody tr th:only-of-type {\n",
       "        vertical-align: middle;\n",
       "    }\n",
       "\n",
       "    .dataframe tbody tr th {\n",
       "        vertical-align: top;\n",
       "    }\n",
       "\n",
       "    .dataframe thead th {\n",
       "        text-align: right;\n",
       "    }\n",
       "</style>\n",
       "<table border=\"1\" class=\"dataframe\">\n",
       "  <thead>\n",
       "    <tr style=\"text-align: right;\">\n",
       "      <th></th>\n",
       "      <th>date</th>\n",
       "      <th>wod</th>\n",
       "      <th>man_setting</th>\n",
       "      <th>woman_setting</th>\n",
       "      <th>median_record_seconds</th>\n",
       "    </tr>\n",
       "  </thead>\n",
       "  <tbody>\n",
       "    <tr>\n",
       "      <th>0</th>\n",
       "      <td>2025-06-03</td>\n",
       "      <td>For time: 30 deadlifts 20 hang squat cleans 10...</td>\n",
       "      <td>205 lb</td>\n",
       "      <td>145 lb</td>\n",
       "      <td>462.5</td>\n",
       "    </tr>\n",
       "    <tr>\n",
       "      <th>1</th>\n",
       "      <td>2025-06-02</td>\n",
       "      <td>For time: 1,600/2,000-meter row Every 90 secon...</td>\n",
       "      <td>NaN</td>\n",
       "      <td>NaN</td>\n",
       "      <td>797.5</td>\n",
       "    </tr>\n",
       "    <tr>\n",
       "      <th>2</th>\n",
       "      <td>2025-05-30</td>\n",
       "      <td>Elizabeth 21-15-9 reps for time of: Cleans Rin...</td>\n",
       "      <td>135 lb</td>\n",
       "      <td>95 lb</td>\n",
       "      <td>443.0</td>\n",
       "    </tr>\n",
       "    <tr>\n",
       "      <th>3</th>\n",
       "      <td>2025-05-26</td>\n",
       "      <td>Murph For time: Run 1 mile 100 pull-ups 200 pu...</td>\n",
       "      <td>NaN</td>\n",
       "      <td>NaN</td>\n",
       "      <td>2926.0</td>\n",
       "    </tr>\n",
       "    <tr>\n",
       "      <th>4</th>\n",
       "      <td>2025-05-23</td>\n",
       "      <td>5 rounds for time of: 15 GHD back extensions 2...</td>\n",
       "      <td>NaN</td>\n",
       "      <td>NaN</td>\n",
       "      <td>820.0</td>\n",
       "    </tr>\n",
       "  </tbody>\n",
       "</table>\n",
       "</div>"
      ],
      "text/plain": [
       "         date                                                wod man_setting  \\\n",
       "0  2025-06-03  For time: 30 deadlifts 20 hang squat cleans 10...      205 lb   \n",
       "1  2025-06-02  For time: 1,600/2,000-meter row Every 90 secon...         NaN   \n",
       "2  2025-05-30  Elizabeth 21-15-9 reps for time of: Cleans Rin...      135 lb   \n",
       "3  2025-05-26  Murph For time: Run 1 mile 100 pull-ups 200 pu...         NaN   \n",
       "4  2025-05-23  5 rounds for time of: 15 GHD back extensions 2...         NaN   \n",
       "\n",
       "  woman_setting  median_record_seconds  \n",
       "0        145 lb                  462.5  \n",
       "1           NaN                  797.5  \n",
       "2         95 lb                  443.0  \n",
       "3           NaN                 2926.0  \n",
       "4           NaN                  820.0  "
      ]
     },
     "execution_count": 29,
     "metadata": {},
     "output_type": "execute_result"
    }
   ],
   "source": [
    "df = pd.read_csv('wod_fortime_median.csv')\n",
    "df.head()"
   ]
  },
  {
   "cell_type": "code",
   "execution_count": 30,
   "id": "ba264b27",
   "metadata": {},
   "outputs": [
    {
     "data": {
      "text/plain": [
       "175"
      ]
     },
     "execution_count": 30,
     "metadata": {},
     "output_type": "execute_result"
    }
   ],
   "source": [
    "df['wod'].duplicated(keep=False).sum()"
   ]
  },
  {
   "cell_type": "code",
   "execution_count": 31,
   "id": "8d82c19b",
   "metadata": {},
   "outputs": [
    {
     "data": {
      "text/html": [
       "<div>\n",
       "<style scoped>\n",
       "    .dataframe tbody tr th:only-of-type {\n",
       "        vertical-align: middle;\n",
       "    }\n",
       "\n",
       "    .dataframe tbody tr th {\n",
       "        vertical-align: top;\n",
       "    }\n",
       "\n",
       "    .dataframe thead th {\n",
       "        text-align: right;\n",
       "    }\n",
       "</style>\n",
       "<table border=\"1\" class=\"dataframe\">\n",
       "  <thead>\n",
       "    <tr style=\"text-align: right;\">\n",
       "      <th></th>\n",
       "      <th>date</th>\n",
       "      <th>wod</th>\n",
       "      <th>man_setting</th>\n",
       "      <th>woman_setting</th>\n",
       "      <th>median_record_seconds</th>\n",
       "    </tr>\n",
       "  </thead>\n",
       "  <tbody>\n",
       "    <tr>\n",
       "      <th>15</th>\n",
       "      <td>2025-04-23</td>\n",
       "      <td>Karen For time: 150 wall-ball shots</td>\n",
       "      <td>20-lb ball to 10-foot target</td>\n",
       "      <td>14-lb ball to 9-foot target</td>\n",
       "      <td>519.5</td>\n",
       "    </tr>\n",
       "    <tr>\n",
       "      <th>86</th>\n",
       "      <td>2024-10-23</td>\n",
       "      <td>Karen For time: 150 wall-ball shots</td>\n",
       "      <td>20-lb medicine ball to 10-foot target</td>\n",
       "      <td>14-lb medicine ball to 9-foot target</td>\n",
       "      <td>515.0</td>\n",
       "    </tr>\n",
       "    <tr>\n",
       "      <th>428</th>\n",
       "      <td>2022-04-03</td>\n",
       "      <td>Karen For time: 150 wall-ball shots</td>\n",
       "      <td>20-lb ball to 10-ft target</td>\n",
       "      <td>14-lb ball to 9-ft target</td>\n",
       "      <td>495.0</td>\n",
       "    </tr>\n",
       "    <tr>\n",
       "      <th>538</th>\n",
       "      <td>2021-06-03</td>\n",
       "      <td>Karen For time: 150 wall-ball shots</td>\n",
       "      <td>20-lb. ball to 10-ft. target</td>\n",
       "      <td>14-lb. ball to 9-ft. target</td>\n",
       "      <td>474.0</td>\n",
       "    </tr>\n",
       "    <tr>\n",
       "      <th>691</th>\n",
       "      <td>2019-12-19</td>\n",
       "      <td>Karen For time: 150 wall-ball shots</td>\n",
       "      <td>20-lb. ball to 10-ft. target</td>\n",
       "      <td>14-lb. ball to 9-ft. target</td>\n",
       "      <td>511.0</td>\n",
       "    </tr>\n",
       "  </tbody>\n",
       "</table>\n",
       "</div>"
      ],
      "text/plain": [
       "           date                                  wod  \\\n",
       "15   2025-04-23  Karen For time: 150 wall-ball shots   \n",
       "86   2024-10-23  Karen For time: 150 wall-ball shots   \n",
       "428  2022-04-03  Karen For time: 150 wall-ball shots   \n",
       "538  2021-06-03  Karen For time: 150 wall-ball shots   \n",
       "691  2019-12-19  Karen For time: 150 wall-ball shots   \n",
       "\n",
       "                               man_setting  \\\n",
       "15            20-lb ball to 10-foot target   \n",
       "86   20-lb medicine ball to 10-foot target   \n",
       "428             20-lb ball to 10-ft target   \n",
       "538           20-lb. ball to 10-ft. target   \n",
       "691           20-lb. ball to 10-ft. target   \n",
       "\n",
       "                            woman_setting  median_record_seconds  \n",
       "15            14-lb ball to 9-foot target                  519.5  \n",
       "86   14-lb medicine ball to 9-foot target                  515.0  \n",
       "428             14-lb ball to 9-ft target                  495.0  \n",
       "538           14-lb. ball to 9-ft. target                  474.0  \n",
       "691           14-lb. ball to 9-ft. target                  511.0  "
      ]
     },
     "execution_count": 31,
     "metadata": {},
     "output_type": "execute_result"
    }
   ],
   "source": [
    "df[df[\"wod\"]=='Karen For time: 150 wall-ball shots']"
   ]
  },
  {
   "cell_type": "code",
   "execution_count": null,
   "id": "d6f271d8",
   "metadata": {},
   "outputs": [
    {
     "data": {
      "text/html": [
       "<div>\n",
       "<style scoped>\n",
       "    .dataframe tbody tr th:only-of-type {\n",
       "        vertical-align: middle;\n",
       "    }\n",
       "\n",
       "    .dataframe tbody tr th {\n",
       "        vertical-align: top;\n",
       "    }\n",
       "\n",
       "    .dataframe thead th {\n",
       "        text-align: right;\n",
       "    }\n",
       "</style>\n",
       "<table border=\"1\" class=\"dataframe\">\n",
       "  <thead>\n",
       "    <tr style=\"text-align: right;\">\n",
       "      <th></th>\n",
       "      <th>date</th>\n",
       "      <th>wod</th>\n",
       "      <th>man_setting</th>\n",
       "      <th>woman_setting</th>\n",
       "      <th>median_record_seconds</th>\n",
       "    </tr>\n",
       "  </thead>\n",
       "  <tbody>\n",
       "    <tr>\n",
       "      <th>15</th>\n",
       "      <td>2025-04-23</td>\n",
       "      <td>Karen For time: 150 wall-ball shots</td>\n",
       "      <td>20-lb ball to 10-foot target</td>\n",
       "      <td>14-lb ball to 9-foot target</td>\n",
       "      <td>511.0</td>\n",
       "    </tr>\n",
       "    <tr>\n",
       "      <th>86</th>\n",
       "      <td>2024-10-23</td>\n",
       "      <td>Karen For time: 150 wall-ball shots</td>\n",
       "      <td>20-lb medicine ball to 10-foot target</td>\n",
       "      <td>14-lb medicine ball to 9-foot target</td>\n",
       "      <td>511.0</td>\n",
       "    </tr>\n",
       "    <tr>\n",
       "      <th>428</th>\n",
       "      <td>2022-04-03</td>\n",
       "      <td>Karen For time: 150 wall-ball shots</td>\n",
       "      <td>20-lb ball to 10-ft target</td>\n",
       "      <td>14-lb ball to 9-ft target</td>\n",
       "      <td>511.0</td>\n",
       "    </tr>\n",
       "    <tr>\n",
       "      <th>538</th>\n",
       "      <td>2021-06-03</td>\n",
       "      <td>Karen For time: 150 wall-ball shots</td>\n",
       "      <td>20-lb. ball to 10-ft. target</td>\n",
       "      <td>14-lb. ball to 9-ft. target</td>\n",
       "      <td>511.0</td>\n",
       "    </tr>\n",
       "    <tr>\n",
       "      <th>691</th>\n",
       "      <td>2019-12-19</td>\n",
       "      <td>Karen For time: 150 wall-ball shots</td>\n",
       "      <td>20-lb. ball to 10-ft. target</td>\n",
       "      <td>14-lb. ball to 9-ft. target</td>\n",
       "      <td>511.0</td>\n",
       "    </tr>\n",
       "  </tbody>\n",
       "</table>\n",
       "</div>"
      ],
      "text/plain": [
       "           date                                  wod  \\\n",
       "15   2025-04-23  Karen For time: 150 wall-ball shots   \n",
       "86   2024-10-23  Karen For time: 150 wall-ball shots   \n",
       "428  2022-04-03  Karen For time: 150 wall-ball shots   \n",
       "538  2021-06-03  Karen For time: 150 wall-ball shots   \n",
       "691  2019-12-19  Karen For time: 150 wall-ball shots   \n",
       "\n",
       "                               man_setting  \\\n",
       "15            20-lb ball to 10-foot target   \n",
       "86   20-lb medicine ball to 10-foot target   \n",
       "428             20-lb ball to 10-ft target   \n",
       "538           20-lb. ball to 10-ft. target   \n",
       "691           20-lb. ball to 10-ft. target   \n",
       "\n",
       "                            woman_setting  median_record_seconds  \n",
       "15            14-lb ball to 9-foot target                  511.0  \n",
       "86   14-lb medicine ball to 9-foot target                  511.0  \n",
       "428             14-lb ball to 9-ft target                  511.0  \n",
       "538           14-lb. ball to 9-ft. target                  511.0  \n",
       "691           14-lb. ball to 9-ft. target                  511.0  "
      ]
     },
     "execution_count": 32,
     "metadata": {},
     "output_type": "execute_result"
    }
   ],
   "source": [
    "df['median_record_seconds'] = df.groupby('wod')['median_record_seconds'].transform('median')\n",
    "df[df[\"wod\"]=='Karen For time: 150 wall-ball shots']"
   ]
  },
  {
   "cell_type": "code",
   "execution_count": 36,
   "id": "78cd9160",
   "metadata": {},
   "outputs": [
    {
     "data": {
      "text/plain": [
       "(684, 5)"
      ]
     },
     "execution_count": 36,
     "metadata": {},
     "output_type": "execute_result"
    }
   ],
   "source": [
    "df.drop_duplicates(subset=['wod'], inplace=True, keep='first')\n",
    "df.reset_index(drop=True, inplace=True)\n",
    "df['wod'].duplicated(keep=False).sum()\n",
    "df.shape"
   ]
  },
  {
   "cell_type": "code",
   "execution_count": 43,
   "id": "365b9c61",
   "metadata": {},
   "outputs": [
    {
     "data": {
      "text/plain": [
       "((684, 3), (684,))"
      ]
     },
     "execution_count": 43,
     "metadata": {},
     "output_type": "execute_result"
    }
   ],
   "source": [
    "X = df.drop(columns=['date', 'median_record_seconds'])\n",
    "y = df['median_record_seconds']\n",
    "X.shape, y.shape"
   ]
  },
  {
   "cell_type": "code",
   "execution_count": 44,
   "id": "d3d89945",
   "metadata": {},
   "outputs": [
    {
     "name": "stdout",
     "output_type": "stream",
     "text": [
      "Combining all text features...\n",
      "Done\n"
     ]
    }
   ],
   "source": [
    "text_combined = []\n",
    "\n",
    "print('Combining all text features...')\n",
    "\n",
    "for (i, row) in X.iterrows():\n",
    "  combined = ''\n",
    "\n",
    "  for text_col in ['wod', 'man_setting', 'woman_setting']:\n",
    "    if pd.isna(row[text_col]):\n",
    "      continue\n",
    "    combined += (str(row[text_col]) + ' [unsused1]')\n",
    "\n",
    "  text_combined.append(combined)\n",
    "\n",
    "assert(len(text_combined) == len(X))\n",
    "\n",
    "print('Done')"
   ]
  },
  {
   "cell_type": "code",
   "execution_count": 45,
   "id": "a25a68e5",
   "metadata": {},
   "outputs": [
    {
     "data": {
      "text/html": [
       "<div>\n",
       "<style scoped>\n",
       "    .dataframe tbody tr th:only-of-type {\n",
       "        vertical-align: middle;\n",
       "    }\n",
       "\n",
       "    .dataframe tbody tr th {\n",
       "        vertical-align: top;\n",
       "    }\n",
       "\n",
       "    .dataframe thead th {\n",
       "        text-align: right;\n",
       "    }\n",
       "</style>\n",
       "<table border=\"1\" class=\"dataframe\">\n",
       "  <thead>\n",
       "    <tr style=\"text-align: right;\">\n",
       "      <th></th>\n",
       "      <th>wod_info</th>\n",
       "    </tr>\n",
       "  </thead>\n",
       "  <tbody>\n",
       "    <tr>\n",
       "      <th>0</th>\n",
       "      <td>For time: 30 deadlifts 20 hang squat cleans 10 shoulder-to-overheads [unsused1]205 lb [unsused1]145 lb [unsused1]</td>\n",
       "    </tr>\n",
       "    <tr>\n",
       "      <th>1</th>\n",
       "      <td>For time: 1,600/2,000-meter row Every 90 seconds, including the start, perform 3 wall walks until you complete the row. [unsused1]</td>\n",
       "    </tr>\n",
       "    <tr>\n",
       "      <th>2</th>\n",
       "      <td>Elizabeth 21-15-9 reps for time of: Cleans Ring dips [unsused1]135 lb [unsused1]95 lb [unsused1]</td>\n",
       "    </tr>\n",
       "    <tr>\n",
       "      <th>3</th>\n",
       "      <td>Murph For time: Run 1 mile 100 pull-ups 200 push-ups 300 air squats Run 1 mile Partition the pull-ups, push-ups, and squats as needed. If you’ve got a 14/20-lb vest or body armor, wear it. [unsused1]</td>\n",
       "    </tr>\n",
       "    <tr>\n",
       "      <th>4</th>\n",
       "      <td>5 rounds for time of: 15 GHD back extensions 25 AbMat sit-ups 50 double-unders [unsused1]</td>\n",
       "    </tr>\n",
       "  </tbody>\n",
       "</table>\n",
       "</div>"
      ],
      "text/plain": [
       "                                                                                                                                                                                                  wod_info\n",
       "0                                                                                        For time: 30 deadlifts 20 hang squat cleans 10 shoulder-to-overheads [unsused1]205 lb [unsused1]145 lb [unsused1]\n",
       "1                                                                       For time: 1,600/2,000-meter row Every 90 seconds, including the start, perform 3 wall walks until you complete the row. [unsused1]\n",
       "2                                                                                                         Elizabeth 21-15-9 reps for time of: Cleans Ring dips [unsused1]135 lb [unsused1]95 lb [unsused1]\n",
       "3  Murph For time: Run 1 mile 100 pull-ups 200 push-ups 300 air squats Run 1 mile Partition the pull-ups, push-ups, and squats as needed. If you’ve got a 14/20-lb vest or body armor, wear it. [unsused1]\n",
       "4                                                                                                                5 rounds for time of: 15 GHD back extensions 25 AbMat sit-ups 50 double-unders [unsused1]"
      ]
     },
     "metadata": {},
     "output_type": "display_data"
    }
   ],
   "source": [
    "X = X.drop(columns=['wod', 'man_setting', 'woman_setting'], axis=1, inplace=False)\n",
    "X.insert(0, 'wod_info', text_combined)\n",
    "\n",
    "with pd.option_context('display.max_colwidth', None):\n",
    "  display(X.head())"
   ]
  },
  {
   "cell_type": "code",
   "execution_count": null,
   "id": "d3017530",
   "metadata": {},
   "outputs": [
    {
     "data": {
      "application/vnd.jupyter.widget-view+json": {
       "model_id": "29e81dd6067744af846a69a03c977717",
       "version_major": 2,
       "version_minor": 0
      },
      "text/plain": [
       "tokenizer_config.json:   0%|          | 0.00/48.0 [00:00<?, ?B/s]"
      ]
     },
     "metadata": {},
     "output_type": "display_data"
    },
    {
     "data": {
      "application/vnd.jupyter.widget-view+json": {
       "model_id": "20e0371bd17743539d49aad49588a3bc",
       "version_major": 2,
       "version_minor": 0
      },
      "text/plain": [
       "vocab.txt:   0%|          | 0.00/232k [00:00<?, ?B/s]"
      ]
     },
     "metadata": {},
     "output_type": "display_data"
    },
    {
     "data": {
      "application/vnd.jupyter.widget-view+json": {
       "model_id": "3a6815d501bb41cdad082bc98882d4a2",
       "version_major": 2,
       "version_minor": 0
      },
      "text/plain": [
       "tokenizer.json:   0%|          | 0.00/466k [00:00<?, ?B/s]"
      ]
     },
     "metadata": {},
     "output_type": "display_data"
    }
   ],
   "source": [
    "from transformers import BertTokenizer, BertModel\n",
    "tokenizer = BertTokenizer.from_pretrained('bert-base-uncased')\n",
    "\n",
    "encoded_corpus = tokenizer(text=X['wod_info'].tolist(),\n",
    "                            add_special_tokens=True,\n",
    "                            padding='max_length',\n",
    "                            truncation='longest_first',\n",
    "                            max_length=512,\n",
    "                            return_attention_mask=True)\n",
    "\n"
   ]
  },
  {
   "cell_type": "code",
   "execution_count": 47,
   "id": "447f9819",
   "metadata": {},
   "outputs": [],
   "source": [
    "input_ids = encoded_corpus['input_ids']\n",
    "attention_mask = encoded_corpus['attention_mask']"
   ]
  },
  {
   "cell_type": "code",
   "execution_count": 48,
   "id": "c89c4e8c",
   "metadata": {},
   "outputs": [],
   "source": [
    "from sklearn.model_selection import train_test_split\n",
    "\n",
    "X_train, X_test, y_train, y_test = train_test_split(\n",
    "    input_ids, y, test_size=0.2, random_state=42\n",
    ")\n",
    "X_train_mask, X_test_mask, _, _ = train_test_split(\n",
    "    attention_mask, y, test_size=0.2, random_state=42\n",
    ")"
   ]
  },
  {
   "cell_type": "code",
   "execution_count": 49,
   "id": "7a2d30ae",
   "metadata": {},
   "outputs": [],
   "source": [
    "from sklearn.preprocessing import StandardScaler\n",
    "import numpy as np\n",
    "\n",
    "scaler = StandardScaler()\n",
    "\n",
    "y_train = np.log1p(y_train)\n",
    "y_test = np.log1p(y_test)\n",
    "\n",
    "scaler.fit(y_train.values.reshape(-1, 1))\n",
    "y_train = scaler.transform(y_train.values.reshape(-1, 1))\n",
    "y_test = scaler.transform(y_test.values.reshape(-1, 1))"
   ]
  },
  {
   "cell_type": "code",
   "execution_count": 50,
   "id": "295b7863",
   "metadata": {},
   "outputs": [
    {
     "name": "stdout",
     "output_type": "stream",
     "text": [
      "-4.026841829719032e-16\n",
      "1.0\n"
     ]
    },
    {
     "data": {
      "image/png": "[encoded data removed]",
      "text/plain": [
       "<Figure size 640x480 with 1 Axes>"
      ]
     },
     "metadata": {},
     "output_type": "display_data"
    }
   ],
   "source": [
    "import matplotlib.pyplot as plt\n",
    "\n",
    "plt.hist(y_train,bins=30)\n",
    "print(y_train.mean())\n",
    "print(y_train.std())"
   ]
  },
  {
   "cell_type": "code",
   "execution_count": 51,
   "id": "b164918d",
   "metadata": {},
   "outputs": [],
   "source": [
    "import torch\n",
    "from torch.utils.data import TensorDataset, DataLoader, RandomSampler, SequentialSampler\n",
    "\n",
    "batch_size = 32\n",
    "\n",
    "def create_dataloaders(inputs, masks, labels, batch_size, train=True):\n",
    "    input_tensor = torch.tensor(inputs)\n",
    "    mask_tensor = torch.tensor(masks)\n",
    "    labels_tensor = torch.tensor(labels)\n",
    "    dataset = TensorDataset(input_tensor, mask_tensor,\n",
    "                            labels_tensor)\n",
    "    if train:\n",
    "        sampler = RandomSampler(dataset)\n",
    "    else:\n",
    "        sampler = SequentialSampler(dataset)\n",
    "\n",
    "    dataloader = DataLoader(dataset, batch_size=batch_size, sampler=sampler)\n",
    "    return dataloader\n",
    "\n",
    "y_train = y_train.astype('float32')\n",
    "y_test = y_test.astype('float32')\n",
    "\n",
    "train_dataloader = create_dataloaders(X_train, X_train_mask,\n",
    "                                      y_train, batch_size, train=True)\n",
    "test_dataloader = create_dataloaders(X_test, X_test_mask,\n",
    "                                     y_test, batch_size, train=False)"
   ]
  },
  {
   "cell_type": "code",
   "execution_count": 52,
   "id": "26fd656a",
   "metadata": {},
   "outputs": [],
   "source": [
    "import torch.nn as nn\n",
    "from transformers import BertModel\n",
    "\n",
    "class BertRegressor(nn.Module):\n",
    "\n",
    "    def __init__(self, drop_rate=0.2, freeze_Bert=False):\n",
    "\n",
    "        super(BertRegressor, self).__init__()\n",
    "\n",
    "        self.Bert = BertModel.from_pretrained('bert-base-uncased')\n",
    "\n",
    "        if freeze_Bert:\n",
    "            for param in self.Bert.parameters():\n",
    "                param.requires_grad = False\n",
    "\n",
    "        self.regressor = nn.Sequential(\n",
    "            nn.Dropout(drop_rate),\n",
    "            nn.Linear(768, 256),\n",
    "            nn.ReLU(),\n",
    "            nn.Linear(256, 1)\n",
    "            )\n",
    "\n",
    "    def forward(self, input_ids, attention_masks):\n",
    "\n",
    "        outputs = self.Bert(input_ids, attention_masks)\n",
    "        class_label_output = outputs.pooler_output\n",
    "        outputs = self.regressor(class_label_output)\n",
    "        return outputs\n",
    "\n",
    "model = BertRegressor(drop_rate=0.2)"
   ]
  },
  {
   "cell_type": "code",
   "execution_count": null,
   "id": "4ee5cc47",
   "metadata": {},
   "outputs": [],
   "source": [
    "from transformers import get_linear_schedule_with_warmup\n",
    "\n",
    "\n",
    "epochs = 10\n",
    "total_steps = len(train_dataloader) * epochs\n",
    "\n",
    "optimizer = torch.optim.AdamW(model.parameters(), lr=5e-5, eps=1e-8)\n",
    "\n",
    "scheduler = get_linear_schedule_with_warmup(optimizer,\n",
    "                 num_warmup_steps=0, num_training_steps=total_steps)\n",
    "\n",
    "loss_function = nn.MSELoss()"
   ]
  },
  {
   "cell_type": "code",
   "execution_count": null,
   "id": "03d8e113",
   "metadata": {},
   "outputs": [],
   "source": [
    "def r2_score(outputs, labels):\n",
    "    labels_mean = torch.mean(labels)\n",
    "    ss_tot = torch.sum((labels - labels_mean) ** 2)\n",
    "    ss_res = torch.sum((labels - outputs) ** 2)\n",
    "    r2 = 1 - ss_res / ss_tot\n",
    "    return r2\n",
    "\n",
    "def evaluate(model, loss_function, test_dataloader, device):\n",
    "\n",
    "    model.eval()\n",
    "\n",
    "    test_loss, test_r2 = [], []\n",
    "\n",
    "    for batch in test_dataloader:\n",
    "        batch_inputs, batch_masks, batch_labels = \\\n",
    "                                  tuple(b.to(device) for b in batch)\n",
    "        with torch.no_grad():\n",
    "            outputs = model(batch_inputs, batch_masks)\n",
    "\n",
    "        loss = loss_function(outputs, batch_labels)\n",
    "        test_loss.append(loss.item())\n",
    "\n",
    "        r2 = r2_score(outputs, batch_labels)\n",
    "        test_r2.append(r2.item())\n",
    "\n",
    "    return test_loss, test_r2"
   ]
  },
  {
   "cell_type": "code",
   "execution_count": null,
   "id": "3492c905",
   "metadata": {},
   "outputs": [],
   "source": [
    "from torch.nn.utils.clip_grad import clip_grad_norm_\n",
    "\n",
    "def train(model, optimizer, scheduler, loss_function, epochs,\n",
    "          train_dataloader, device, test_dataloader, clip_value=2):\n",
    "\n",
    "    train_losses = []\n",
    "    validation_losses = []\n",
    "    r2_scores = []\n",
    "\n",
    "    for epoch in range(epochs):\n",
    "        print('Epoch: ',epoch+1)\n",
    "        print(\"-----\")\n",
    "        print('Training...')\n",
    "        best_loss = 1e10\n",
    "        model.train()\n",
    "        total_loss = 0\n",
    "        for step, batch in enumerate(train_dataloader):\n",
    "\n",
    "            batch_inputs, batch_masks, batch_labels = \\\n",
    "                               tuple(b.to(device) for b in batch)\n",
    "\n",
    "            model.zero_grad()\n",
    "\n",
    "            outputs = model(batch_inputs, batch_masks)\n",
    "\n",
    "            loss = loss_function(outputs.squeeze(),\n",
    "                             batch_labels.squeeze())\n",
    "            total_loss += loss.item()\n",
    "\n",
    "            loss.backward()\n",
    "            clip_grad_norm_(model.parameters(), clip_value)\n",
    "            optimizer.step()\n",
    "            scheduler.step()\n",
    "\n",
    "            if step % 100 == 0 and not step == 0:\n",
    "              print(f'Batch: {step}/{len(train_dataloader)}')\n",
    "\n",
    "        avg_train_loss = total_loss / len(train_dataloader)\n",
    "        train_losses.append(avg_train_loss)\n",
    "\n",
    "        print(f'Epoch{epoch+1} Average Training Loss: {avg_train_loss:>5f}')\n",
    "\n",
    "        print('\\nValidaion...')\n",
    "\n",
    "        test_loss, test_r2 = evaluate(model, loss_function, test_dataloader, device)\n",
    "\n",
    "        avg_test_loss = sum(test_loss) / len(test_loss)\n",
    "        avg_test_r2 = sum(test_r2) / len(test_r2)\n",
    "\n",
    "        validation_losses.append(avg_test_loss)\n",
    "        r2_scores.append(avg_test_r2)\n",
    "\n",
    "        print(f'Epoch {epoch+1} Average Test Loss: {avg_test_loss:>5f}')\n",
    "        print(f'Epoch {epoch+1} Average Test R2: {avg_test_r2:>5f}\\n')\n",
    "\n",
    "    return model, train_losses, validation_losses, r2_scores"
   ]
  },
  {
   "cell_type": "code",
   "execution_count": null,
   "id": "8c212ff7",
   "metadata": {},
   "outputs": [],
   "source": [
    "import torch\n",
    "if torch.cuda.is_available():\n",
    "    device = torch.device(\"cuda\")\n",
    "    print(\"Using GPU.\")\n",
    "else:\n",
    "    print(\"No GPU available, using the CPU instead.\")\n",
    "    device = torch.device(\"cpu\")\n",
    "model.to(device)"
   ]
  },
  {
   "cell_type": "code",
   "execution_count": null,
   "id": "89fd4fcf",
   "metadata": {},
   "outputs": [],
   "source": [
    "model, train_losses, validation_losses, r2_scores = train(model, optimizer, scheduler, loss_function, epochs,\n",
    "              train_dataloader, device, test_dataloader, clip_value=2.0)"
   ]
  },
  {
   "cell_type": "code",
   "execution_count": null,
   "id": "cb5d3287",
   "metadata": {},
   "outputs": [],
   "source": [
    "plt.plot(train_losses, label='Training Loss')\n",
    "plt.plot(validation_losses, label='Validation Loss')\n",
    "plt.plot(r2_scores, label='R2 Score')\n",
    "plt.xlabel('Epoch')\n",
    "plt.ylabel('Loss')\n",
    "plt.legend()\n",
    "plt.show()"
   ]
  }
 ],
 "metadata": {
  "kernelspec": {
   "display_name": "base",
   "language": "python",
   "name": "python3"
  },
  "language_info": {
   "codemirror_mode": {
    "name": "ipython",
    "version": 3
   },
   "file_extension": ".py",
   "mimetype": "text/x-python",
   "name": "python",
   "nbconvert_exporter": "python",
   "pygments_lexer": "ipython3",
   "version": "3.11.8"
  }
 },
 "nbformat": 4,
 "nbformat_minor": 5
}
